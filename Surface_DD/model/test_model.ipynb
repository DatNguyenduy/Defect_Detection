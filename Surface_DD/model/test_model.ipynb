{
 "cells": [
  {
   "cell_type": "code",
   "execution_count": 1,
   "metadata": {},
   "outputs": [
    {
     "name": "stderr",
     "output_type": "stream",
     "text": [
      "c:\\Users\\DuyDat\\anaconda3\\envs\\pythonENV\\lib\\site-packages\\tqdm\\auto.py:22: TqdmWarning: IProgress not found. Please update jupyter and ipywidgets. See https://ipywidgets.readthedocs.io/en/stable/user_install.html\n",
      "  from .autonotebook import tqdm as notebook_tqdm\n"
     ]
    }
   ],
   "source": [
    "import sys\n",
    "sys.path.append(\"..\")\n",
    "from model.models import UNet\n",
    "import torch\n",
    "from torchinfo import summary"
   ]
  },
  {
   "cell_type": "code",
   "execution_count": 2,
   "metadata": {},
   "outputs": [],
   "source": [
    "unet_config = {\n",
    "    \"encChannels\": [1,8,16,32,64],\n",
    "    \"decChannels\": [64,32,16,8],\n",
    "    \"retainDim\":True,\n",
    "    \"input_image_height\":256,\n",
    "    \"input_image_width\":128\n",
    "}\n",
    "device = torch.device(\"cuda:0\" if torch.cuda.is_available() else \"cpu\")"
   ]
  },
  {
   "cell_type": "code",
   "execution_count": 3,
   "metadata": {},
   "outputs": [
    {
     "name": "stdout",
     "output_type": "stream",
     "text": [
      "cuda:0\n"
     ]
    }
   ],
   "source": [
    "print(device)"
   ]
  },
  {
   "cell_type": "code",
   "execution_count": 4,
   "metadata": {},
   "outputs": [],
   "source": [
    "network = UNet(**unet_config).to(device=device)"
   ]
  },
  {
   "cell_type": "code",
   "execution_count": 5,
   "metadata": {},
   "outputs": [
    {
     "name": "stdout",
     "output_type": "stream",
     "text": [
      "==========================================================================================\n",
      "Layer (type:depth-idx)                   Output Shape              Param #\n",
      "==========================================================================================\n",
      "UNet                                     [16, 1, 256, 128]         --\n",
      "├─Encoder: 1-1                           [16, 8, 252, 124]         --\n",
      "│    └─ModuleList: 2-7                   --                        (recursive)\n",
      "│    │    └─Block: 3-1                   [16, 8, 252, 124]         664\n",
      "│    └─MaxPool2d: 2-2                    [16, 8, 126, 62]          --\n",
      "│    └─ModuleList: 2-7                   --                        (recursive)\n",
      "│    │    └─Block: 3-2                   [16, 16, 122, 58]         3,488\n",
      "│    └─MaxPool2d: 2-4                    [16, 16, 61, 29]          --\n",
      "│    └─ModuleList: 2-7                   --                        (recursive)\n",
      "│    │    └─Block: 3-3                   [16, 32, 57, 25]          13,888\n",
      "│    └─MaxPool2d: 2-6                    [16, 32, 28, 12]          --\n",
      "│    └─ModuleList: 2-7                   --                        (recursive)\n",
      "│    │    └─Block: 3-4                   [16, 64, 24, 8]           55,424\n",
      "│    └─MaxPool2d: 2-8                    [16, 64, 12, 4]           --\n",
      "├─Decoder: 1-2                           [16, 8, 164, 36]          --\n",
      "│    └─ModuleList: 2-13                  --                        (recursive)\n",
      "│    │    └─ConvTranspose2d: 3-5         [16, 32, 48, 16]          8,224\n",
      "│    └─ModuleList: 2-14                  --                        (recursive)\n",
      "│    │    └─Block: 3-6                   [16, 32, 44, 12]          27,712\n",
      "│    └─ModuleList: 2-13                  --                        (recursive)\n",
      "│    │    └─ConvTranspose2d: 3-7         [16, 16, 88, 24]          2,064\n",
      "│    └─ModuleList: 2-14                  --                        (recursive)\n",
      "│    │    └─Block: 3-8                   [16, 16, 84, 20]          6,944\n",
      "│    └─ModuleList: 2-13                  --                        (recursive)\n",
      "│    │    └─ConvTranspose2d: 3-9         [16, 8, 168, 40]          520\n",
      "│    └─ModuleList: 2-14                  --                        (recursive)\n",
      "│    │    └─Block: 3-10                  [16, 8, 164, 36]          1,744\n",
      "├─Conv2d: 1-3                            [16, 1, 162, 34]          73\n",
      "==========================================================================================\n",
      "Total params: 120,745\n",
      "Trainable params: 120,745\n",
      "Non-trainable params: 0\n",
      "Total mult-adds (G): 2.13\n",
      "==========================================================================================\n",
      "Input size (MB): 2.10\n",
      "Forward/backward pass size (MB): 150.24\n",
      "Params size (MB): 0.48\n",
      "Estimated Total Size (MB): 152.82\n",
      "==========================================================================================\n"
     ]
    }
   ],
   "source": [
    "batch_size = 16\n",
    "print(summary(network,input_size=(batch_size,1,256,128)))"
   ]
  },
  {
   "cell_type": "code",
   "execution_count": 6,
   "metadata": {},
   "outputs": [],
   "source": [
    "X = torch.rand((16,1,256,128),dtype = torch.float32).to(device)\n",
    "y_pred = network.forward(X)\n"
   ]
  },
  {
   "cell_type": "code",
   "execution_count": 7,
   "metadata": {},
   "outputs": [
    {
     "name": "stdout",
     "output_type": "stream",
     "text": [
      "torch.Size([16, 1, 256, 128])\n"
     ]
    }
   ],
   "source": [
    "print(y_pred.shape)"
   ]
  }
 ],
 "metadata": {
  "kernelspec": {
   "display_name": "AsinkENV_Torch",
   "language": "python",
   "name": "python3"
  },
  "language_info": {
   "codemirror_mode": {
    "name": "ipython",
    "version": 3
   },
   "file_extension": ".py",
   "mimetype": "text/x-python",
   "name": "python",
   "nbconvert_exporter": "python",
   "pygments_lexer": "ipython3",
   "version": "3.10.9"
  }
 },
 "nbformat": 4,
 "nbformat_minor": 2
}
